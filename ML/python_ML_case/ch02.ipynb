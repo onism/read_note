{
 "cells": [
  {
   "cell_type": "code",
   "execution_count": 11,
   "metadata": {},
   "outputs": [],
   "source": [
    "%matplotlib inline\n",
    "import time\n",
    "import random\n",
    "import datetime\n",
    "import pandas as pd\n",
    "import matplotlib.pyplot as plt\n",
    "import statistics\n",
    "import numpy as np\n",
    "from scipy import stats\n",
    "from sklearn.grid_search import GridSearchCV\n",
    "from sklearn.linear_model import RANSACRegressor, LinearRegression, TheilSenRegressor\n",
    "from sklearn.svm import SVR\n",
    "from sklearn.linear_model import Ridge, Lasso, ElasticNet, BayesianRidge\n",
    "from sklearn.ensemble import GradientBoostingRegressor\n",
    "from sklearn.cross_validation import  train_test_split\n",
    "from sklearn.pipeline import  Pipeline\n",
    "from sklearn.preprocessing import PolynomialFeatures\n",
    "from sklearn.cross_validation import cross_val_score\n",
    "import seaborn\n",
    "from IPython.display import Image\n"
   ]
  },
  {
   "cell_type": "markdown",
   "metadata": {},
   "source": [
    "Regression describes the relationship between an exploratory variable and a response variable.\n",
    "# Linear Regression\n",
    "$y = b_0 + b_1 x + e$\n",
    "# Least Squares Regression Line of y on x\n",
    "$y = b_0 + b_1 x$\n",
    "# Multiple Regression\n",
    "Multiple regression is a type of regression in which more than one exploratory variable is used to predict the outcome of a response variable.\n",
    "# Stepwise Regression\n",
    "This type of regression is a customized version of multiple regression. Rather than using all exploratory variables for predicting the outcome, stepwise regression automatically selects the independent variables from a given pool which can yield a best fit line.\n",
    "# Polynomial Regression\n"
   ]
  }
 ],
 "metadata": {
  "kernelspec": {
   "display_name": "Python [anaconda]",
   "language": "python",
   "name": "Python [anaconda]"
  },
  "language_info": {
   "codemirror_mode": {
    "name": "ipython",
    "version": 2
   },
   "file_extension": ".py",
   "mimetype": "text/x-python",
   "name": "python",
   "nbconvert_exporter": "python",
   "pygments_lexer": "ipython2",
   "version": "2.7.12"
  }
 },
 "nbformat": 4,
 "nbformat_minor": 2
}

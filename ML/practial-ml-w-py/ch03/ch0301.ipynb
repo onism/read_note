{
 "cells": [
  {
   "cell_type": "markdown",
   "metadata": {},
   "source": [
    "# csv\n",
    "The simplest way to read a csv is through the Python csv module."
   ]
  },
  {
   "cell_type": "code",
   "execution_count": 9,
   "metadata": {},
   "outputs": [],
   "source": [
    "import csv\n",
    "filename = 'tabular_csv.csv'\n",
    "csv_reader = csv.reader(open(filename,'rb'), delimiter=',')"
   ]
  },
  {
   "cell_type": "code",
   "execution_count": 10,
   "metadata": {},
   "outputs": [
    {
     "name": "stdout",
     "output_type": "stream",
     "text": [
      "['sno', 'fruit', 'color', 'price']\n",
      "['1', 'apple', 'red', '110.85']\n",
      "['2', 'banana', 'yellow', '50.12']\n",
      "['3', 'mango', 'yellow', '70.29']\n",
      "['4', 'orange', 'orange', '80.00']\n",
      "['5', 'kiwi', 'green', '150.00']\n",
      "['6', 'pineapple', 'yellow', '90.00']\n",
      "['7', 'guava', 'green', '20.00']\n",
      "{'color': ['red', 'yellow', 'yellow', 'orange', 'green', 'yellow', 'green'], 'sno': ['1', '2', '3', '4', '5', '6', '7'], 'price': ['110.85', '50.12', '70.29', '80.00', '150.00', '90.00', '20.00'], 'fruit': ['apple', 'banana', 'mango', 'orange', 'kiwi', 'pineapple', 'guava']}\n"
     ]
    }
   ],
   "source": [
    "csv_rows = list()\n",
    "csv_attr_dict = dict()\n",
    "for row in csv_reader:\n",
    "    print row\n",
    "    csv_rows.append(row)\n",
    "for col in csv_rows[0]:\n",
    "    csv_attr_dict[col] = list()\n",
    "for row in csv_rows[1:]:\n",
    "    csv_attr_dict['sno'].append(row[0])\n",
    "    csv_attr_dict['fruit'].append(row[1])\n",
    "    csv_attr_dict['color'].append(row[2])\n",
    "    csv_attr_dict['price'].append(row[3])\n",
    "print csv_attr_dict"
   ]
  },
  {
   "cell_type": "code",
   "execution_count": 11,
   "metadata": {},
   "outputs": [],
   "source": [
    "import pandas as pd\n",
    "df = pd.read_csv(filename, sep=',')"
   ]
  },
  {
   "cell_type": "code",
   "execution_count": 12,
   "metadata": {},
   "outputs": [
    {
     "data": {
      "text/html": [
       "<div>\n",
       "<table border=\"1\" class=\"dataframe\">\n",
       "  <thead>\n",
       "    <tr style=\"text-align: right;\">\n",
       "      <th></th>\n",
       "      <th>sno</th>\n",
       "      <th>fruit</th>\n",
       "      <th>color</th>\n",
       "      <th>price</th>\n",
       "    </tr>\n",
       "  </thead>\n",
       "  <tbody>\n",
       "    <tr>\n",
       "      <th>0</th>\n",
       "      <td>1</td>\n",
       "      <td>apple</td>\n",
       "      <td>red</td>\n",
       "      <td>110.85</td>\n",
       "    </tr>\n",
       "    <tr>\n",
       "      <th>1</th>\n",
       "      <td>2</td>\n",
       "      <td>banana</td>\n",
       "      <td>yellow</td>\n",
       "      <td>50.12</td>\n",
       "    </tr>\n",
       "    <tr>\n",
       "      <th>2</th>\n",
       "      <td>3</td>\n",
       "      <td>mango</td>\n",
       "      <td>yellow</td>\n",
       "      <td>70.29</td>\n",
       "    </tr>\n",
       "    <tr>\n",
       "      <th>3</th>\n",
       "      <td>4</td>\n",
       "      <td>orange</td>\n",
       "      <td>orange</td>\n",
       "      <td>80.00</td>\n",
       "    </tr>\n",
       "    <tr>\n",
       "      <th>4</th>\n",
       "      <td>5</td>\n",
       "      <td>kiwi</td>\n",
       "      <td>green</td>\n",
       "      <td>150.00</td>\n",
       "    </tr>\n",
       "    <tr>\n",
       "      <th>5</th>\n",
       "      <td>6</td>\n",
       "      <td>pineapple</td>\n",
       "      <td>yellow</td>\n",
       "      <td>90.00</td>\n",
       "    </tr>\n",
       "    <tr>\n",
       "      <th>6</th>\n",
       "      <td>7</td>\n",
       "      <td>guava</td>\n",
       "      <td>green</td>\n",
       "      <td>20.00</td>\n",
       "    </tr>\n",
       "  </tbody>\n",
       "</table>\n",
       "</div>"
      ],
      "text/plain": [
       "   sno      fruit   color   price\n",
       "0    1      apple     red  110.85\n",
       "1    2     banana  yellow   50.12\n",
       "2    3      mango  yellow   70.29\n",
       "3    4     orange  orange   80.00\n",
       "4    5       kiwi   green  150.00\n",
       "5    6  pineapple  yellow   90.00\n",
       "6    7      guava   green   20.00"
      ]
     },
     "execution_count": 12,
     "metadata": {},
     "output_type": "execute_result"
    }
   ],
   "source": [
    "df"
   ]
  },
  {
   "cell_type": "code",
   "execution_count": null,
   "metadata": {},
   "outputs": [],
   "source": []
  }
 ],
 "metadata": {
  "kernelspec": {
   "display_name": "Python [anaconda]",
   "language": "python",
   "name": "Python [anaconda]"
  },
  "language_info": {
   "codemirror_mode": {
    "name": "ipython",
    "version": 2
   },
   "file_extension": ".py",
   "mimetype": "text/x-python",
   "name": "python",
   "nbconvert_exporter": "python",
   "pygments_lexer": "ipython2",
   "version": "2.7.12"
  }
 },
 "nbformat": 4,
 "nbformat_minor": 2
}
